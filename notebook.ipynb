{
 "cells": [
  {
   "cell_type": "code",
   "execution_count": 1,
   "metadata": {},
   "outputs": [],
   "source": [
    "import warnings\n",
    "%load_ext autoreload\n",
    "%autoreload 2\n",
    "warnings.simplefilter('ignore')\n",
    "\n",
    "\"chr=conceded-home-rolling\"\n",
    "\"car=conceded-away-rolling\"\n",
    "\"hr=home-rolling\"\n",
    "\"ar=away-rolling\"\n"
   ]
  },
  {
   "cell_type": "code",
   "execution_count": 58,
   "metadata": {},
   "outputs": [],
   "source": [
    "from preprocess import pack\n",
    "from features import Features, feature_selection\n",
    "from sklearn.model_selection import train_test_split\n",
    "from sklearn.pipeline import Pipeline\n",
    "from sklearn.ensemble import RandomForestClassifier\n",
    "import optimization\n",
    "from xgboost import XGBClassifier\n",
    "from sklearn.model_selection import StratifiedKFold\n",
    "import numpy as np\n",
    "\n",
    "\n",
    "feat = Features(**pack)\n",
    "data = feat.execute()\n",
    "container = feature_selection(data)\n",
    "trainx = container.trainx\n",
    "trainy = container.trainy\n",
    "# best_params = optimization.optimizer(trainx, trainy, 'XGBoost_classif')\n"
   ]
  },
  {
   "cell_type": "code",
   "execution_count": 65,
   "metadata": {},
   "outputs": [],
   "source": [
    "model = XGBClassifier(random_state=0, booster='gbtree', tree_method='hist',\n",
    "                      eval_metric='mlogloss', verbosity=0, **best_params)\n",
    "\n",
    "\n",
    "def train(trainx, trainy):\n",
    "    folds = 10\n",
    "    skf = StratifiedKFold(n_splits=folds, shuffle=True, random_state=0)\n",
    "    train_acc, val_acc = [], []\n",
    "\n",
    "    for k, (train_idx, val_idx) in enumerate(skf.split(trainx, trainy)):\n",
    "        model.fit(trainx.iloc[train_idx].values, trainy.iloc[train_idx].values)\n",
    "        train_preds = model.predict(trainx.iloc[train_idx].values)\n",
    "        val_preds = model.predict(trainx.iloc[val_idx].values)\n",
    "\n",
    "        acc_t = accuracy_score(\n",
    "            y_true=trainy.iloc[train_idx].values, y_pred=train_preds)\n",
    "        acc_v = accuracy_score(\n",
    "            y_true=trainy.iloc[val_idx].values, y_pred=val_preds)\n",
    "        train_acc.append(acc_t)\n",
    "        val_acc.append(acc_v)\n",
    "    return np.mean(train_acc), np.mean(val_acc)\n"
   ]
  },
  {
   "cell_type": "code",
   "execution_count": 79,
   "metadata": {},
   "outputs": [
    {
     "data": {
      "text/plain": [
       "OrderedDict([('colsample_bytree', 1.0),\n",
       "             ('learning_rate', 0.14006304478391782),\n",
       "             ('max_depth', 2),\n",
       "             ('n_estimators', 50),\n",
       "             ('subsample', 1.0)])"
      ]
     },
     "execution_count": 79,
     "metadata": {},
     "output_type": "execute_result"
    }
   ],
   "source": [
    "best_params\n"
   ]
  },
  {
   "cell_type": "code",
   "execution_count": 78,
   "metadata": {},
   "outputs": [
    {
     "data": {
      "text/html": [
       "<div>\n",
       "<style scoped>\n",
       "    .dataframe tbody tr th:only-of-type {\n",
       "        vertical-align: middle;\n",
       "    }\n",
       "\n",
       "    .dataframe tbody tr th {\n",
       "        vertical-align: top;\n",
       "    }\n",
       "\n",
       "    .dataframe thead th {\n",
       "        text-align: right;\n",
       "    }\n",
       "</style>\n",
       "<table border=\"1\" class=\"dataframe\">\n",
       "  <thead>\n",
       "    <tr style=\"text-align: right;\">\n",
       "      <th></th>\n",
       "      <th>pca_ftg_hr</th>\n",
       "      <th>p_chr</th>\n",
       "      <th>p_ar</th>\n",
       "      <th>p_hr</th>\n",
       "      <th>p_car</th>\n",
       "      <th>ftg_ar</th>\n",
       "      <th>hp_chr</th>\n",
       "      <th>ftg_hr</th>\n",
       "      <th>ftg_chr</th>\n",
       "      <th>hp_car</th>\n",
       "      <th>...</th>\n",
       "      <th>pca_htg_chr</th>\n",
       "      <th>s_car</th>\n",
       "      <th>st_car</th>\n",
       "      <th>st_ar</th>\n",
       "      <th>st_hr</th>\n",
       "      <th>pca_htg_hr</th>\n",
       "      <th>c_car</th>\n",
       "      <th>c_hr</th>\n",
       "      <th>c_chr</th>\n",
       "      <th>pca_f_ar</th>\n",
       "    </tr>\n",
       "  </thead>\n",
       "  <tbody>\n",
       "    <tr>\n",
       "      <th>0</th>\n",
       "      <td>8.866708</td>\n",
       "      <td>3.000000</td>\n",
       "      <td>1.7</td>\n",
       "      <td>1.000000</td>\n",
       "      <td>1.1</td>\n",
       "      <td>2.1</td>\n",
       "      <td>2.666667</td>\n",
       "      <td>0.666667</td>\n",
       "      <td>2.833333</td>\n",
       "      <td>1.3</td>\n",
       "      <td>...</td>\n",
       "      <td>3.303819</td>\n",
       "      <td>9.3</td>\n",
       "      <td>5.2</td>\n",
       "      <td>5.7</td>\n",
       "      <td>3.666667</td>\n",
       "      <td>5.030941</td>\n",
       "      <td>4.8</td>\n",
       "      <td>4.166667</td>\n",
       "      <td>7.000000</td>\n",
       "      <td>-0.232326</td>\n",
       "    </tr>\n",
       "    <tr>\n",
       "      <th>1</th>\n",
       "      <td>2.174440</td>\n",
       "      <td>0.833333</td>\n",
       "      <td>1.7</td>\n",
       "      <td>0.500000</td>\n",
       "      <td>2.0</td>\n",
       "      <td>1.5</td>\n",
       "      <td>1.166667</td>\n",
       "      <td>1.000000</td>\n",
       "      <td>1.000000</td>\n",
       "      <td>2.1</td>\n",
       "      <td>...</td>\n",
       "      <td>1.884768</td>\n",
       "      <td>13.4</td>\n",
       "      <td>6.3</td>\n",
       "      <td>5.3</td>\n",
       "      <td>3.166667</td>\n",
       "      <td>0.100927</td>\n",
       "      <td>5.7</td>\n",
       "      <td>3.166667</td>\n",
       "      <td>6.166667</td>\n",
       "      <td>0.265277</td>\n",
       "    </tr>\n",
       "    <tr>\n",
       "      <th>2</th>\n",
       "      <td>2.516089</td>\n",
       "      <td>2.000000</td>\n",
       "      <td>1.3</td>\n",
       "      <td>2.166667</td>\n",
       "      <td>0.5</td>\n",
       "      <td>1.6</td>\n",
       "      <td>1.666667</td>\n",
       "      <td>2.500000</td>\n",
       "      <td>1.333333</td>\n",
       "      <td>1.0</td>\n",
       "      <td>...</td>\n",
       "      <td>-0.960373</td>\n",
       "      <td>9.7</td>\n",
       "      <td>3.2</td>\n",
       "      <td>4.4</td>\n",
       "      <td>5.500000</td>\n",
       "      <td>0.548668</td>\n",
       "      <td>5.3</td>\n",
       "      <td>4.166667</td>\n",
       "      <td>4.666667</td>\n",
       "      <td>0.656154</td>\n",
       "    </tr>\n",
       "    <tr>\n",
       "      <th>3</th>\n",
       "      <td>3.097088</td>\n",
       "      <td>1.500000</td>\n",
       "      <td>1.2</td>\n",
       "      <td>1.500000</td>\n",
       "      <td>0.4</td>\n",
       "      <td>1.1</td>\n",
       "      <td>1.500000</td>\n",
       "      <td>1.500000</td>\n",
       "      <td>0.500000</td>\n",
       "      <td>0.6</td>\n",
       "      <td>...</td>\n",
       "      <td>-2.715519</td>\n",
       "      <td>7.9</td>\n",
       "      <td>4.5</td>\n",
       "      <td>5.4</td>\n",
       "      <td>4.166667</td>\n",
       "      <td>-1.903942</td>\n",
       "      <td>5.1</td>\n",
       "      <td>5.000000</td>\n",
       "      <td>4.333333</td>\n",
       "      <td>0.962468</td>\n",
       "    </tr>\n",
       "    <tr>\n",
       "      <th>4</th>\n",
       "      <td>2.283887</td>\n",
       "      <td>0.333333</td>\n",
       "      <td>1.3</td>\n",
       "      <td>0.166667</td>\n",
       "      <td>1.3</td>\n",
       "      <td>1.0</td>\n",
       "      <td>0.500000</td>\n",
       "      <td>0.833333</td>\n",
       "      <td>0.666667</td>\n",
       "      <td>0.8</td>\n",
       "      <td>...</td>\n",
       "      <td>0.124077</td>\n",
       "      <td>11.8</td>\n",
       "      <td>4.7</td>\n",
       "      <td>4.5</td>\n",
       "      <td>3.333333</td>\n",
       "      <td>-3.492375</td>\n",
       "      <td>6.4</td>\n",
       "      <td>4.333333</td>\n",
       "      <td>3.833333</td>\n",
       "      <td>0.014202</td>\n",
       "    </tr>\n",
       "  </tbody>\n",
       "</table>\n",
       "<p>5 rows × 30 columns</p>\n",
       "</div>"
      ],
      "text/plain": [
       "   pca_ftg_hr     p_chr  p_ar      p_hr  p_car  ftg_ar    hp_chr    ftg_hr  \\\n",
       "0    8.866708  3.000000   1.7  1.000000    1.1     2.1  2.666667  0.666667   \n",
       "1    2.174440  0.833333   1.7  0.500000    2.0     1.5  1.166667  1.000000   \n",
       "2    2.516089  2.000000   1.3  2.166667    0.5     1.6  1.666667  2.500000   \n",
       "3    3.097088  1.500000   1.2  1.500000    0.4     1.1  1.500000  1.500000   \n",
       "4    2.283887  0.333333   1.3  0.166667    1.3     1.0  0.500000  0.833333   \n",
       "\n",
       "    ftg_chr  hp_car  ...  pca_htg_chr  s_car  st_car  st_ar     st_hr  \\\n",
       "0  2.833333     1.3  ...     3.303819    9.3     5.2    5.7  3.666667   \n",
       "1  1.000000     2.1  ...     1.884768   13.4     6.3    5.3  3.166667   \n",
       "2  1.333333     1.0  ...    -0.960373    9.7     3.2    4.4  5.500000   \n",
       "3  0.500000     0.6  ...    -2.715519    7.9     4.5    5.4  4.166667   \n",
       "4  0.666667     0.8  ...     0.124077   11.8     4.7    4.5  3.333333   \n",
       "\n",
       "   pca_htg_hr  c_car      c_hr     c_chr  pca_f_ar  \n",
       "0    5.030941    4.8  4.166667  7.000000 -0.232326  \n",
       "1    0.100927    5.7  3.166667  6.166667  0.265277  \n",
       "2    0.548668    5.3  4.166667  4.666667  0.656154  \n",
       "3   -1.903942    5.1  5.000000  4.333333  0.962468  \n",
       "4   -3.492375    6.4  4.333333  3.833333  0.014202  \n",
       "\n",
       "[5 rows x 30 columns]"
      ]
     },
     "execution_count": 78,
     "metadata": {},
     "output_type": "execute_result"
    }
   ],
   "source": [
    "import features\n",
    "best = features.auto_best_features(trainx, trainy, n_features=30)\n",
    "best.head(5)\n"
   ]
  },
  {
   "cell_type": "code",
   "execution_count": 76,
   "metadata": {},
   "outputs": [
    {
     "data": {
      "image/png": "[encoded data removed]",
      "text/plain": [
       "<Figure size 500x2000 with 1 Axes>"
      ]
     },
     "metadata": {},
     "output_type": "display_data"
    }
   ],
   "source": [
    "mi = features.mutual_information(best, trainy)\n",
    "features.plotmi(mi)\n"
   ]
  },
  {
   "cell_type": "code",
   "execution_count": 80,
   "metadata": {},
   "outputs": [
    {
     "data": {
      "text/plain": [
       "(0.601399436138519, 0.5906642075022)"
      ]
     },
     "execution_count": 80,
     "metadata": {},
     "output_type": "execute_result"
    }
   ],
   "source": [
    "train(best, trainy)"
   ]
  },
  {
   "cell_type": "code",
   "execution_count": 86,
   "metadata": {},
   "outputs": [
    {
     "data": {
      "text/plain": [
       "array([[1662,  510,  727],\n",
       "       [ 724, 3263, 1273],\n",
       "       [  31,   30,   69]])"
      ]
     },
     "execution_count": 86,
     "metadata": {},
     "output_type": "execute_result"
    }
   ],
   "source": [
    "from sklearn.metrics import confusion_matrix\n",
    "preds=model.predict(best)\n",
    "confusion_matrix(preds,trainy)"
   ]
  },
  {
   "cell_type": "code",
   "execution_count": 89,
   "metadata": {},
   "outputs": [
    {
     "data": {
      "text/plain": [
       "1    5260\n",
       "0    2899\n",
       "2     130\n",
       "dtype: int64"
      ]
     },
     "execution_count": 89,
     "metadata": {},
     "output_type": "execute_result"
    }
   ],
   "source": [
    "pd.Series(preds).value_counts()"
   ]
  },
  {
   "cell_type": "code",
   "execution_count": 91,
   "metadata": {},
   "outputs": [
    {
     "data": {
      "text/plain": [
       "1    3803\n",
       "0    2417\n",
       "2    2069\n",
       "Name: ftr, dtype: int64"
      ]
     },
     "execution_count": 91,
     "metadata": {},
     "output_type": "execute_result"
    }
   ],
   "source": [
    "trainy.value_counts()"
   ]
  },
  {
   "cell_type": "code",
   "execution_count": 92,
   "metadata": {},
   "outputs": [
    {
     "data": {
      "text/plain": [
       "0       1\n",
       "1       1\n",
       "2       0\n",
       "3       2\n",
       "4       1\n",
       "       ..\n",
       "8284    0\n",
       "8285    1\n",
       "8286    1\n",
       "8287    2\n",
       "8288    1\n",
       "Name: ftr, Length: 8289, dtype: int64"
      ]
     },
     "execution_count": 92,
     "metadata": {},
     "output_type": "execute_result"
    }
   ],
   "source": [
    "\n",
    "trainy"
   ]
  },
  {
   "cell_type": "code",
   "execution_count": 101,
   "metadata": {},
   "outputs": [
    {
     "data": {
      "text/plain": [
       "0       4\n",
       "1       4\n",
       "2       0\n",
       "3       9\n",
       "4       4\n",
       "       ..\n",
       "8284    0\n",
       "8285    4\n",
       "8286    4\n",
       "8287    9\n",
       "8288    4\n",
       "Name: ftr, Length: 8289, dtype: int64"
      ]
     },
     "execution_count": 101,
     "metadata": {},
     "output_type": "execute_result"
    }
   ],
   "source": [
    "import pandas as pd\n",
    "y_strat = pd.cut(trainy,bins=10, labels=False)\n",
    "y_strat"
   ]
  },
  {
   "cell_type": "code",
   "execution_count": null,
   "metadata": {},
   "outputs": [],
   "source": []
  }
 ],
 "metadata": {
  "kernelspec": {
   "display_name": "Python 3.8.13 ('py38')",
   "language": "python",
   "name": "python3"
  },
  "language_info": {
   "codemirror_mode": {
    "name": "ipython",
    "version": 3
   },
   "file_extension": ".py",
   "mimetype": "text/x-python",
   "name": "python",
   "nbconvert_exporter": "python",
   "pygments_lexer": "ipython3",
   "version": "3.8.13"
  },
  "orig_nbformat": 4,
  "vscode": {
   "interpreter": {
    "hash": "89cfa167d153742a51790af676de7b3c0d8354fe0bd3b02aa53d1c3f327566f5"
   }
  }
 },
 "nbformat": 4,
 "nbformat_minor": 2
}
