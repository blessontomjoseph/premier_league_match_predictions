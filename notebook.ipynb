{
 "cells": [
  {
   "cell_type": "code",
   "execution_count": 1,
   "metadata": {},
   "outputs": [],
   "source": [
    "%load_ext autoreload\n",
    "%autoreload 2\n",
    "import warnings\n",
    "warnings.simplefilter('ignore')"
   ]
  },
  {
   "cell_type": "code",
   "execution_count": 2,
   "metadata": {},
   "outputs": [],
   "source": [
    "from preprocess import pack\n",
    "from features import Features,feature_selection\n",
    "from sklearn.model_selection import train_test_split\n",
    "from sklearn.pipeline import Pipeline\n",
    "from sklearn.ensemble import RandomForestClassifier\n",
    "import optimization\n",
    "feat=Features(**pack)\n",
    "data=feat.execute()\n",
    "container=feature_selection(data)\n",
    "trainx=container.trainx\n",
    "trainy=container.trainy"
   ]
  },
  {
   "cell_type": "code",
   "execution_count": 3,
   "metadata": {},
   "outputs": [],
   "source": [
    "from time import time\n",
    "\n",
    "from sklearn.model_selection import KFold, StratifiedKFold\n",
    "from sklearn.decomposition import TruncatedSVD\n",
    "from sklearn.feature_extraction.text import TfidfVectorizer, CountVectorizer\n",
    "from sklearn.metrics import accuracy_score,mean_squared_error\n",
    "from sklearn.metrics import make_scorer\n",
    "\n",
    "from xgboost import XGBClassifier, DMatrix\n",
    "from skopt import BayesSearchCV\n",
    "from skopt.callbacks import DeadlineStopper, DeltaYStopper\n",
    "from skopt.space import Real, Categorical, Integer\n",
    "\n",
    "from functools import partial\n",
    "import pprint\n",
    "import pandas as pd\n",
    "import numpy as np"
   ]
  },
  {
   "cell_type": "code",
   "execution_count": 4,
   "metadata": {},
   "outputs": [],
   "source": [
    "def report_perf(optimizer, X, y, title=\"model\", callbacks=None):\n",
    "    start = time()\n",
    "    if callbacks is not None:\n",
    "        optimizer.fit(X, y, callback=callbacks)\n",
    "    else:\n",
    "        optimizer.fit(X, y)\n",
    "\n",
    "    d = pd.DataFrame(optimizer.cv_results_)\n",
    "    best_score = optimizer.best_score_\n",
    "    best_score_std = d.iloc[optimizer.best_index_].std_test_score\n",
    "    best_params = optimizer.best_params_\n",
    "\n",
    "    print((title + \" took %.2f seconds,  candidates checked: %d, best CV score: %.3f \"+ u\"\\u00B1\"+\" %.3f\") % (time() - start,len(optimizer.cv_results_['params']),best_score,best_score_std))\n",
    "    print('Best parameters:')\n",
    "    pprint.pprint(best_params)\n",
    "    print()\n",
    "    return best_params"
   ]
  },
  {
   "cell_type": "code",
   "execution_count": 25,
   "metadata": {},
   "outputs": [],
   "source": [
    "model = XGBClassifier(random_state=0, booster='gbtree', tree_method='hist',eval_metric='mlogloss') \n",
    "\n",
    "# gpu_hist for gpu train\n",
    "scoring = make_scorer(partial(accuracy_score), greater_is_better=True)\n",
    "skf = StratifiedKFold(n_splits=7,shuffle=True,random_state=0)\n",
    "cv_strategy = list(skf.split(trainx,trainy))\n",
    "\n",
    "\n",
    "search_spaces = {'learning_rate': Real(0.01, 1.0, 'uniform'),\n",
    "                 'max_depth': Integer(2, 12),\n",
    "                 'subsample': Real(0.1, 1.0, 'uniform'),\n",
    "                 # subsample ratio of columns by tree\n",
    "                 'colsample_bytree': Real(0.1, 1.0, 'uniform'),\n",
    "                 # L2 regularization\n",
    "                #  'reg_lambda': Real(1e-9, 100., 'uniform'),\n",
    "                #  'reg_alpha': Real(1e-9, 100., 'uniform'),  # L1 regularization\n",
    "                 'n_estimators': Integer(50, 5000)\n",
    "                 }\n",
    "\n",
    "\n",
    "# num_class=7,\n",
    "# learning_rate=0.1,\n",
    "# num_iterations=1000,\n",
    "# max_depth=10,\n",
    "# feature_fraction=0.7, \n",
    "# scale_pos_weight=1.5,"
   ]
  },
  {
   "cell_type": "code",
   "execution_count": 26,
   "metadata": {},
   "outputs": [],
   "source": [
    "opt = BayesSearchCV(estimator=model,\n",
    "                    search_spaces=search_spaces,\n",
    "                    scoring=scoring,\n",
    "                    cv=cv_strategy,\n",
    "                    n_iter=120,                                       # max number of trials\n",
    "                    # number of hyperparameter sets evaluated at the same time\n",
    "                    n_points=1,\n",
    "                    n_jobs=1,                                  \n",
    "                    # if not iid it optimizes on the cv score\n",
    "                    iid=False,\n",
    "                    return_train_score=False,\n",
    "                    refit=False,\n",
    "                    # optmizer parameters: we use Gaussian Process (GP)\n",
    "                    optimizer_kwargs={'base_estimator': 'GP'},\n",
    "                    random_state=0)                                   "
   ]
  },
  {
   "cell_type": "code",
   "execution_count": 28,
   "metadata": {},
   "outputs": [
    {
     "name": "stdout",
     "output_type": "stream",
     "text": [
      "XGBoost_classif took 723.18 seconds,  candidates checked: 11, best CV score: 0.549 ± 0.010\n",
      "Best parameters:\n",
      "OrderedDict([('colsample_bytree', 1.0),\n",
      "             ('learning_rate', 0.029711244781271254),\n",
      "             ('max_depth', 8),\n",
      "             ('n_estimators', 2329),\n",
      "             ('subsample', 0.6656766262219243)])\n",
      "\n"
     ]
    }
   ],
   "source": [
    "overdone_control = DeltaYStopper(delta=0.0001)\n",
    "time_limit_control = DeadlineStopper(total_time=60*10)\n",
    "best_params = report_perf(opt, trainx,trainy, 'XGBoost_classif',callbacks=[overdone_control, time_limit_control])\n",
    "\n"
   ]
  },
  {
   "cell_type": "code",
   "execution_count": 29,
   "metadata": {},
   "outputs": [],
   "source": [
    "model = XGBClassifier(random_state=0, booster='gbtree', tree_method='hist',eval_metric='mlogloss', verbosity=0, **best_params)"
   ]
  },
  {
   "cell_type": "code",
   "execution_count": 30,
   "metadata": {},
   "outputs": [
    {
     "name": "stdout",
     "output_type": "stream",
     "text": [
      "Fold 0 RMSE: 0.54041\n",
      "Fold 1 RMSE: 0.56092\n",
      "Fold 2 RMSE: 0.52955\n",
      "Fold 3 RMSE: 0.55730\n",
      "Fold 4 RMSE: 0.55609\n",
      "Fold 5 RMSE: 0.56454\n",
      "Fold 6 RMSE: 0.53076\n",
      "Fold 7 RMSE: 0.54041\n",
      "Fold 8 RMSE: 0.53076\n",
      "Fold 9 RMSE: 0.57246\n",
      "repeated CV RMSE: 0.54832 (std=0.01497)\n"
     ]
    }
   ],
   "source": [
    "folds = 10\n",
    "skf = StratifiedKFold(n_splits=folds,shuffle=True,random_state=0)\n",
    "rmse = list()\n",
    "\n",
    "for k, (train_idx, val_idx) in enumerate(skf.split(trainx,trainy)):\n",
    "    model.fit(trainx.iloc[train_idx].values, trainy.iloc[train_idx].values)\n",
    "    val_preds = model.predict(trainx.iloc[val_idx].values)\n",
    "    val_rmse = accuracy_score(y_true=trainy.iloc[val_idx].values, y_pred=val_preds)\n",
    "    print(f\"Fold {k} RMSE: {val_rmse:0.5f}\")\n",
    "    rmse.append(val_rmse)\n",
    "print(f\"repeated CV RMSE: {np.mean(rmse):0.5f} (std={np.std(rmse):0.5f})\")"
   ]
  },
  {
   "cell_type": "code",
   "execution_count": null,
   "metadata": {},
   "outputs": [],
   "source": []
  },
  {
   "cell_type": "code",
   "execution_count": null,
   "metadata": {},
   "outputs": [],
   "source": []
  }
 ],
 "metadata": {
  "kernelspec": {
   "display_name": "Python 3.8.13 ('py38')",
   "language": "python",
   "name": "python3"
  },
  "language_info": {
   "codemirror_mode": {
    "name": "ipython",
    "version": 3
   },
   "file_extension": ".py",
   "mimetype": "text/x-python",
   "name": "python",
   "nbconvert_exporter": "python",
   "pygments_lexer": "ipython3",
   "version": "3.8.13"
  },
  "orig_nbformat": 4,
  "vscode": {
   "interpreter": {
    "hash": "89cfa167d153742a51790af676de7b3c0d8354fe0bd3b02aa53d1c3f327566f5"
   }
  }
 },
 "nbformat": 4,
 "nbformat_minor": 2
}
