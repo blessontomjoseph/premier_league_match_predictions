{
 "cells": [
  {
   "cell_type": "markdown",
   "metadata": {},
   "source": [
    "#### a feature:\n",
    "- the league position of the teams in the previous season\n",
    "- maybe a current league position of bothe teams at the moment when the match is happening\n",
    "\n",
    "#### outlier removals to be done\n",
    "#### more algorithms and more corresponding search spaces\n"
   ]
  },
  {
   "cell_type": "code",
   "execution_count": 2,
   "metadata": {},
   "outputs": [],
   "source": [
    "import warnings\n",
    "%load_ext autoreload\n",
    "%autoreload 2\n",
    "warnings.simplefilter('ignore')\n",
    "\n",
    "# \"chr=conceded-home-rolling\"\n",
    "# \"car=conceded-away-rolling\"\n",
    "# \"hr=home-rolling\"    \n",
    "# \"ar=away-rolling\""
   ]
  },
  {
   "cell_type": "code",
   "execution_count": 40,
   "metadata": {},
   "outputs": [],
   "source": [
    "from preprocess import pack\n",
    "import optimization\n",
    "from features import Features, features_targets\n",
    "import utils\n",
    "\n",
    "import numpy as np\n",
    "import pandas as pd\n",
    "import seaborn as sns\n",
    "from sklearn.model_selection import train_test_split\n",
    "from sklearn.pipeline import Pipeline\n",
    "from sklearn.ensemble import RandomForestClassifier\n",
    "from xgboost import XGBClassifier\n",
    "from sklearn.model_selection import StratifiedKFold\n",
    "from collections import OrderedDict\n",
    "from sklearn.metrics import accuracy_score,f1_score,recall_score,precision_score"
   ]
  },
  {
   "cell_type": "code",
   "execution_count": 22,
   "metadata": {},
   "outputs": [
    {
     "data": {
      "text/plain": [
       "(Index(['season', 'datetime', 'ftr', 'htr', 'referee', 'hometeam', 'fthg',\n",
       "        'hthg', 'hs', 'hst', 'hc', 'hf', 'hy', 'hr', 'hp', 'hhp', 'awayteam',\n",
       "        'ftag', 'htag', 'as', 'ast', 'ac', 'af', 'ay', 'ar', 'ap', 'hap'],\n",
       "       dtype='object'),\n",
       " Index(['season', 'datetime', 'ftr', 'htr', 'referee', 'hometeam', 'fthg',\n",
       "        'hthg', 'hs', 'hst', 'hc', 'hf', 'hy', 'hr', 'hp', 'hhp'],\n",
       "       dtype='object'))"
      ]
     },
     "execution_count": 22,
     "metadata": {},
     "output_type": "execute_result"
    }
   ],
   "source": [
    "pack['data'].columns,pack['home_data'].columns"
   ]
  },
  {
   "cell_type": "code",
   "execution_count": 23,
   "metadata": {},
   "outputs": [],
   "source": [
    "feat = Features(**pack)\n",
    "data = feat.execute()\n",
    "container = features_targets(data)\n",
    "features = container.trainx\n",
    "target = container.trainy\n",
    "\n",
    "trainx,valx,trainy,valy=train_test_split(features,target)\n",
    "trainx.reset_index(inplace=True,drop=True)\n",
    "valx.reset_index(inplace=True,drop=True)\n",
    "trainy.reset_index(inplace=True,drop=True)\n",
    "valy.reset_index(inplace=True,drop=True)"
   ]
  },
  {
   "cell_type": "code",
   "execution_count": 28,
   "metadata": {},
   "outputs": [
    {
     "name": "stdout",
     "output_type": "stream",
     "text": [
      "XGBoost_classif took 3925.00 seconds,  candidates checked: 120, best CV score: 0.597 ± 0.001\n",
      "Best parameters:\n",
      "OrderedDict([('booster', 'gbtree'),\n",
      "             ('colsample_bytree', 0.6302194630442275),\n",
      "             ('learning_rate', 0.01),\n",
      "             ('max_depth', 1),\n",
      "             ('max_leaves', 49),\n",
      "             ('n_estimators', 500),\n",
      "             ('reg_lambda', 1e-09),\n",
      "             ('sampling_method', 'uniform'),\n",
      "             ('subsample', 0.6912252213398504)])\n"
     ]
    }
   ],
   "source": [
    "best_params = optimization.optimizer(features,target, 'XGBoost_classif')"
   ]
  },
  {
   "cell_type": "code",
   "execution_count": 11,
   "metadata": {},
   "outputs": [],
   "source": [
    "model = XGBClassifier(random_state=0, tree_method='hist',objective='multi:softprob',\n",
    "                      eval_metric=accuracy_score, verbosity=0, num_class=3, **best_params)\n",
    "model.fit(trainx,trainy)\n",
    "t_preds=model.predict(trainx)\n",
    "v_preds=model.predict(valx)"
   ]
  },
  {
   "cell_type": "code",
   "execution_count": 12,
   "metadata": {},
   "outputs": [],
   "source": [
    "# import features\n",
    "# best = features.auto_best_features(trainx, trainy, n_features=30)"
   ]
  },
  {
   "cell_type": "code",
   "execution_count": 46,
   "metadata": {},
   "outputs": [
    {
     "name": "stdout",
     "output_type": "stream",
     "text": [
      "[[  0   0   0]\n",
      " [178 400 119]\n",
      " [327 208 841]]\n",
      "0.6840553867700249\n",
      "0.5986493005306319\n",
      "0.8026946285153309\n"
     ]
    },
    {
     "data": {
      "text/plain": [
       "0.5986493005306319"
      ]
     },
     "execution_count": 46,
     "metadata": {},
     "output_type": "execute_result"
    }
   ],
   "source": [
    "from sklearn.metrics import confusion_matrix\n",
    "print(confusion_matrix(v_preds,valy))\n",
    "print(f1_score(v_preds,valy,average='weighted'))\n",
    "print(recall_score(v_preds,valy,average='weighted'))\n",
    "print(precision_score(v_preds,valy,average='weighted'))\n",
    "accuracy_score(v_preds,valy)"
   ]
  },
  {
   "cell_type": "code",
   "execution_count": 48,
   "metadata": {},
   "outputs": [
    {
     "name": "stdout",
     "output_type": "stream",
     "text": [
      "[[   2    1    0]\n",
      " [ 716 1629  499]\n",
      " [1351  787 3304]]\n",
      "0.6817433311845511\n",
      "0.5953673543250091\n",
      "0.8016327489564088\n"
     ]
    },
    {
     "data": {
      "text/plain": [
       "0.5953673543250091"
      ]
     },
     "execution_count": 48,
     "metadata": {},
     "output_type": "execute_result"
    }
   ],
   "source": [
    "from sklearn.metrics import confusion_matrix\n",
    "print(confusion_matrix(t_preds,trainy))\n",
    "print(f1_score(t_preds,trainy,average='weighted'))\n",
    "print(recall_score(t_preds,trainy,average='weighted'))\n",
    "print(precision_score(t_preds,trainy,average='weighted'))\n",
    "accuracy_score(t_preds,trainy)"
   ]
  },
  {
   "cell_type": "code",
   "execution_count": 34,
   "metadata": {},
   "outputs": [],
   "source": []
  },
  {
   "cell_type": "code",
   "execution_count": 81,
   "metadata": {},
   "outputs": [
    {
     "data": {
      "text/plain": [
       "0.5074194715888527"
      ]
     },
     "execution_count": 81,
     "metadata": {},
     "output_type": "execute_result"
    }
   ],
   "source": [
    "out_index=iqr(data,data.select_dtypes('number').columns)\n",
    "out_index.shape[0]/data.shape[0]"
   ]
  },
  {
   "cell_type": "code",
   "execution_count": 60,
   "metadata": {},
   "outputs": [],
   "source": [
    "from sklearn.ensemble import IsolationForest\n",
    "from sklearn.neighbors import LocalOutlierFactor\n"
   ]
  },
  {
   "cell_type": "code",
   "execution_count": 87,
   "metadata": {},
   "outputs": [
    {
     "data": {
      "text/plain": [
       "(4144,)"
      ]
     },
     "execution_count": 87,
     "metadata": {},
     "output_type": "execute_result"
    }
   ],
   "source": [
    "data=pack['data'].select_dtypes('number')\n",
    "iforest = IsolationForest(n_estimators=100, max_samples='auto',\n",
    "                          contamination=0.5, max_features=1.0,\n",
    "                          bootstrap=False, n_jobs=-1, random_state=1)\n",
    "index,values=utils.isolation_forest(pack['data'].select_dtypes('number'),iforest)\n",
    "data.drop(index[0], axis=0)"
   ]
  },
  {
   "cell_type": "code",
   "execution_count": 76,
   "metadata": {},
   "outputs": [
    {
     "data": {
      "text/plain": [
       "(125,)"
      ]
     },
     "execution_count": 76,
     "metadata": {},
     "output_type": "execute_result"
    }
   ],
   "source": [
    "lof = LocalOutlierFactor(n_neighbors=20, algorithm='auto',\n",
    "                         metric='minkowski', contamination=0.02,\n",
    "                         novelty=False, n_jobs=-1)\n",
    "index,values=utils.lof(trainx,lof)\n",
    "index[0].shape"
   ]
  },
  {
   "cell_type": "code",
   "execution_count": 77,
   "metadata": {},
   "outputs": [
    {
     "name": "stdout",
     "output_type": "stream",
     "text": [
      "(625,)\n"
     ]
    }
   ],
   "source": [
    "ex=pack['data'].select_dtypes('number')\n",
    "index=iqr(ex,['fthg'])\n",
    "print(index.shape)\n",
    "\n",
    "ex[['fthg','hs']]\n",
    "index,values=utils.lof(ex[['fthg','hs']],lof)"
   ]
  },
  {
   "cell_type": "code",
   "execution_count": 84,
   "metadata": {},
   "outputs": [
    {
     "data": {
      "text/plain": [
       "<AxesSubplot:xlabel='fthg', ylabel='hs'>"
      ]
     },
     "execution_count": 84,
     "metadata": {},
     "output_type": "execute_result"
    },
    {
     "data": {
      "image/png": "[encoded data removed]",
      "text/plain": [
       "<Figure size 432x288 with 1 Axes>"
      ]
     },
     "metadata": {
      "needs_background": "light"
     },
     "output_type": "display_data"
    }
   ],
   "source": [
    "\n",
    "sns.scatterplot(pack['data']['fthg'],pack['data']['hs'])\n",
    "sns.scatterplot(pack['data']['fthg'].iloc[index[0]],pack['data']['hs'].iloc[index[0]])"
   ]
  },
  {
   "cell_type": "code",
   "execution_count": 88,
   "metadata": {},
   "outputs": [
    {
     "data": {
      "text/html": [
       "<div>\n",
       "<style scoped>\n",
       "    .dataframe tbody tr th:only-of-type {\n",
       "        vertical-align: middle;\n",
       "    }\n",
       "\n",
       "    .dataframe tbody tr th {\n",
       "        vertical-align: top;\n",
       "    }\n",
       "\n",
       "    .dataframe thead th {\n",
       "        text-align: right;\n",
       "    }\n",
       "</style>\n",
       "<table border=\"1\" class=\"dataframe\">\n",
       "  <thead>\n",
       "    <tr style=\"text-align: right;\">\n",
       "      <th></th>\n",
       "      <th>fthg</th>\n",
       "      <th>hthg</th>\n",
       "      <th>hs</th>\n",
       "      <th>hst</th>\n",
       "      <th>hc</th>\n",
       "      <th>hf</th>\n",
       "      <th>hy</th>\n",
       "      <th>hr</th>\n",
       "      <th>hp</th>\n",
       "      <th>hhp</th>\n",
       "      <th>ftag</th>\n",
       "      <th>htag</th>\n",
       "      <th>as</th>\n",
       "      <th>ast</th>\n",
       "      <th>ac</th>\n",
       "      <th>af</th>\n",
       "      <th>ay</th>\n",
       "      <th>ar</th>\n",
       "      <th>ap</th>\n",
       "      <th>hap</th>\n",
       "    </tr>\n",
       "  </thead>\n",
       "  <tbody>\n",
       "    <tr>\n",
       "      <th>0</th>\n",
       "      <td>4</td>\n",
       "      <td>2.0</td>\n",
       "      <td>17.0</td>\n",
       "      <td>14.0</td>\n",
       "      <td>6.0</td>\n",
       "      <td>13.0</td>\n",
       "      <td>1.0</td>\n",
       "      <td>0.0</td>\n",
       "      <td>3</td>\n",
       "      <td>3</td>\n",
       "      <td>0</td>\n",
       "      <td>0.0</td>\n",
       "      <td>8.0</td>\n",
       "      <td>4.0</td>\n",
       "      <td>6.0</td>\n",
       "      <td>12.0</td>\n",
       "      <td>2.0</td>\n",
       "      <td>0.0</td>\n",
       "      <td>0</td>\n",
       "      <td>0</td>\n",
       "    </tr>\n",
       "    <tr>\n",
       "      <th>1</th>\n",
       "      <td>4</td>\n",
       "      <td>1.0</td>\n",
       "      <td>17.0</td>\n",
       "      <td>10.0</td>\n",
       "      <td>7.0</td>\n",
       "      <td>19.0</td>\n",
       "      <td>1.0</td>\n",
       "      <td>0.0</td>\n",
       "      <td>3</td>\n",
       "      <td>3</td>\n",
       "      <td>2</td>\n",
       "      <td>0.0</td>\n",
       "      <td>12.0</td>\n",
       "      <td>5.0</td>\n",
       "      <td>7.0</td>\n",
       "      <td>14.0</td>\n",
       "      <td>2.0</td>\n",
       "      <td>0.0</td>\n",
       "      <td>0</td>\n",
       "      <td>0</td>\n",
       "    </tr>\n",
       "    <tr>\n",
       "      <th>4</th>\n",
       "      <td>2</td>\n",
       "      <td>2.0</td>\n",
       "      <td>17.0</td>\n",
       "      <td>8.0</td>\n",
       "      <td>6.0</td>\n",
       "      <td>21.0</td>\n",
       "      <td>1.0</td>\n",
       "      <td>0.0</td>\n",
       "      <td>3</td>\n",
       "      <td>3</td>\n",
       "      <td>0</td>\n",
       "      <td>0.0</td>\n",
       "      <td>12.0</td>\n",
       "      <td>6.0</td>\n",
       "      <td>4.0</td>\n",
       "      <td>20.0</td>\n",
       "      <td>3.0</td>\n",
       "      <td>0.0</td>\n",
       "      <td>0</td>\n",
       "      <td>0</td>\n",
       "    </tr>\n",
       "    <tr>\n",
       "      <th>5</th>\n",
       "      <td>0</td>\n",
       "      <td>0.0</td>\n",
       "      <td>5.0</td>\n",
       "      <td>4.0</td>\n",
       "      <td>5.0</td>\n",
       "      <td>12.0</td>\n",
       "      <td>2.0</td>\n",
       "      <td>0.0</td>\n",
       "      <td>1</td>\n",
       "      <td>1</td>\n",
       "      <td>0</td>\n",
       "      <td>0.0</td>\n",
       "      <td>5.0</td>\n",
       "      <td>3.0</td>\n",
       "      <td>4.0</td>\n",
       "      <td>12.0</td>\n",
       "      <td>3.0</td>\n",
       "      <td>0.0</td>\n",
       "      <td>1</td>\n",
       "      <td>1</td>\n",
       "    </tr>\n",
       "    <tr>\n",
       "      <th>6</th>\n",
       "      <td>1</td>\n",
       "      <td>0.0</td>\n",
       "      <td>16.0</td>\n",
       "      <td>10.0</td>\n",
       "      <td>6.0</td>\n",
       "      <td>8.0</td>\n",
       "      <td>1.0</td>\n",
       "      <td>0.0</td>\n",
       "      <td>3</td>\n",
       "      <td>1</td>\n",
       "      <td>0</td>\n",
       "      <td>0.0</td>\n",
       "      <td>3.0</td>\n",
       "      <td>2.0</td>\n",
       "      <td>1.0</td>\n",
       "      <td>8.0</td>\n",
       "      <td>1.0</td>\n",
       "      <td>0.0</td>\n",
       "      <td>0</td>\n",
       "      <td>1</td>\n",
       "    </tr>\n",
       "    <tr>\n",
       "      <th>...</th>\n",
       "      <td>...</td>\n",
       "      <td>...</td>\n",
       "      <td>...</td>\n",
       "      <td>...</td>\n",
       "      <td>...</td>\n",
       "      <td>...</td>\n",
       "      <td>...</td>\n",
       "      <td>...</td>\n",
       "      <td>...</td>\n",
       "      <td>...</td>\n",
       "      <td>...</td>\n",
       "      <td>...</td>\n",
       "      <td>...</td>\n",
       "      <td>...</td>\n",
       "      <td>...</td>\n",
       "      <td>...</td>\n",
       "      <td>...</td>\n",
       "      <td>...</td>\n",
       "      <td>...</td>\n",
       "      <td>...</td>\n",
       "    </tr>\n",
       "    <tr>\n",
       "      <th>8279</th>\n",
       "      <td>1</td>\n",
       "      <td>0.0</td>\n",
       "      <td>12.0</td>\n",
       "      <td>4.0</td>\n",
       "      <td>1.0</td>\n",
       "      <td>6.0</td>\n",
       "      <td>1.0</td>\n",
       "      <td>0.0</td>\n",
       "      <td>3</td>\n",
       "      <td>1</td>\n",
       "      <td>0</td>\n",
       "      <td>0.0</td>\n",
       "      <td>5.0</td>\n",
       "      <td>2.0</td>\n",
       "      <td>2.0</td>\n",
       "      <td>13.0</td>\n",
       "      <td>1.0</td>\n",
       "      <td>0.0</td>\n",
       "      <td>0</td>\n",
       "      <td>1</td>\n",
       "    </tr>\n",
       "    <tr>\n",
       "      <th>8282</th>\n",
       "      <td>1</td>\n",
       "      <td>1.0</td>\n",
       "      <td>7.0</td>\n",
       "      <td>3.0</td>\n",
       "      <td>5.0</td>\n",
       "      <td>4.0</td>\n",
       "      <td>2.0</td>\n",
       "      <td>0.0</td>\n",
       "      <td>3</td>\n",
       "      <td>3</td>\n",
       "      <td>0</td>\n",
       "      <td>0.0</td>\n",
       "      <td>12.0</td>\n",
       "      <td>4.0</td>\n",
       "      <td>7.0</td>\n",
       "      <td>10.0</td>\n",
       "      <td>2.0</td>\n",
       "      <td>0.0</td>\n",
       "      <td>0</td>\n",
       "      <td>0</td>\n",
       "    </tr>\n",
       "    <tr>\n",
       "      <th>8285</th>\n",
       "      <td>2</td>\n",
       "      <td>0.0</td>\n",
       "      <td>15.0</td>\n",
       "      <td>7.0</td>\n",
       "      <td>4.0</td>\n",
       "      <td>2.0</td>\n",
       "      <td>0.0</td>\n",
       "      <td>0.0</td>\n",
       "      <td>3</td>\n",
       "      <td>1</td>\n",
       "      <td>0</td>\n",
       "      <td>0.0</td>\n",
       "      <td>5.0</td>\n",
       "      <td>1.0</td>\n",
       "      <td>6.0</td>\n",
       "      <td>6.0</td>\n",
       "      <td>1.0</td>\n",
       "      <td>0.0</td>\n",
       "      <td>0</td>\n",
       "      <td>1</td>\n",
       "    </tr>\n",
       "    <tr>\n",
       "      <th>8286</th>\n",
       "      <td>2</td>\n",
       "      <td>2.0</td>\n",
       "      <td>12.0</td>\n",
       "      <td>3.0</td>\n",
       "      <td>3.0</td>\n",
       "      <td>11.0</td>\n",
       "      <td>1.0</td>\n",
       "      <td>0.0</td>\n",
       "      <td>3</td>\n",
       "      <td>3</td>\n",
       "      <td>1</td>\n",
       "      <td>0.0</td>\n",
       "      <td>11.0</td>\n",
       "      <td>3.0</td>\n",
       "      <td>4.0</td>\n",
       "      <td>12.0</td>\n",
       "      <td>1.0</td>\n",
       "      <td>0.0</td>\n",
       "      <td>0</td>\n",
       "      <td>0</td>\n",
       "    </tr>\n",
       "    <tr>\n",
       "      <th>8288</th>\n",
       "      <td>2</td>\n",
       "      <td>1.0</td>\n",
       "      <td>17.0</td>\n",
       "      <td>6.0</td>\n",
       "      <td>6.0</td>\n",
       "      <td>12.0</td>\n",
       "      <td>1.0</td>\n",
       "      <td>0.0</td>\n",
       "      <td>3</td>\n",
       "      <td>3</td>\n",
       "      <td>0</td>\n",
       "      <td>0.0</td>\n",
       "      <td>18.0</td>\n",
       "      <td>4.0</td>\n",
       "      <td>7.0</td>\n",
       "      <td>10.0</td>\n",
       "      <td>1.0</td>\n",
       "      <td>0.0</td>\n",
       "      <td>0</td>\n",
       "      <td>0</td>\n",
       "    </tr>\n",
       "  </tbody>\n",
       "</table>\n",
       "<p>4145 rows × 20 columns</p>\n",
       "</div>"
      ],
      "text/plain": [
       "      fthg  hthg    hs   hst   hc    hf   hy   hr  hp  hhp  ftag  htag    as  \\\n",
       "0        4   2.0  17.0  14.0  6.0  13.0  1.0  0.0   3    3     0   0.0   8.0   \n",
       "1        4   1.0  17.0  10.0  7.0  19.0  1.0  0.0   3    3     2   0.0  12.0   \n",
       "4        2   2.0  17.0   8.0  6.0  21.0  1.0  0.0   3    3     0   0.0  12.0   \n",
       "5        0   0.0   5.0   4.0  5.0  12.0  2.0  0.0   1    1     0   0.0   5.0   \n",
       "6        1   0.0  16.0  10.0  6.0   8.0  1.0  0.0   3    1     0   0.0   3.0   \n",
       "...    ...   ...   ...   ...  ...   ...  ...  ...  ..  ...   ...   ...   ...   \n",
       "8279     1   0.0  12.0   4.0  1.0   6.0  1.0  0.0   3    1     0   0.0   5.0   \n",
       "8282     1   1.0   7.0   3.0  5.0   4.0  2.0  0.0   3    3     0   0.0  12.0   \n",
       "8285     2   0.0  15.0   7.0  4.0   2.0  0.0  0.0   3    1     0   0.0   5.0   \n",
       "8286     2   2.0  12.0   3.0  3.0  11.0  1.0  0.0   3    3     1   0.0  11.0   \n",
       "8288     2   1.0  17.0   6.0  6.0  12.0  1.0  0.0   3    3     0   0.0  18.0   \n",
       "\n",
       "      ast   ac    af   ay   ar  ap  hap  \n",
       "0     4.0  6.0  12.0  2.0  0.0   0    0  \n",
       "1     5.0  7.0  14.0  2.0  0.0   0    0  \n",
       "4     6.0  4.0  20.0  3.0  0.0   0    0  \n",
       "5     3.0  4.0  12.0  3.0  0.0   1    1  \n",
       "6     2.0  1.0   8.0  1.0  0.0   0    1  \n",
       "...   ...  ...   ...  ...  ...  ..  ...  \n",
       "8279  2.0  2.0  13.0  1.0  0.0   0    1  \n",
       "8282  4.0  7.0  10.0  2.0  0.0   0    0  \n",
       "8285  1.0  6.0   6.0  1.0  0.0   0    1  \n",
       "8286  3.0  4.0  12.0  1.0  0.0   0    0  \n",
       "8288  4.0  7.0  10.0  1.0  0.0   0    0  \n",
       "\n",
       "[4145 rows x 20 columns]"
      ]
     },
     "execution_count": 88,
     "metadata": {},
     "output_type": "execute_result"
    }
   ],
   "source": []
  },
  {
   "cell_type": "code",
   "execution_count": null,
   "metadata": {},
   "outputs": [],
   "source": []
  }
 ],
 "metadata": {
  "kernelspec": {
   "display_name": "Python 3.8.13 ('py38')",
   "language": "python",
   "name": "python3"
  },
  "language_info": {
   "codemirror_mode": {
    "name": "ipython",
    "version": 3
   },
   "file_extension": ".py",
   "mimetype": "text/x-python",
   "name": "python",
   "nbconvert_exporter": "python",
   "pygments_lexer": "ipython3",
   "version": "3.8.13"
  },
  "orig_nbformat": 4,
  "vscode": {
   "interpreter": {
    "hash": "89cfa167d153742a51790af676de7b3c0d8354fe0bd3b02aa53d1c3f327566f5"
   }
  }
 },
 "nbformat": 4,
 "nbformat_minor": 2
}
