{
 "cells": [
  {
   "cell_type": "code",
   "execution_count": 71,
   "metadata": {},
   "outputs": [
    {
     "name": "stdout",
     "output_type": "stream",
     "text": [
      "The autoreload extension is already loaded. To reload it, use:\n",
      "  %reload_ext autoreload\n"
     ]
    }
   ],
   "source": [
    "import warnings\n",
    "%load_ext autoreload\n",
    "%autoreload 2\n",
    "warnings.simplefilter('ignore')\n",
    "\n",
    "# \"chr=conceded-home-rolling\"\n",
    "# \"car=conceded-away-rolling\"\n",
    "# \"hr=home-rolling\"\n",
    "# \"ar=away-rolling\""
   ]
  },
  {
   "cell_type": "code",
   "execution_count": 72,
   "metadata": {},
   "outputs": [],
   "source": [
    "from preprocess import pack\n",
    "from features import Features, feature_selection\n",
    "from sklearn.model_selection import train_test_split\n",
    "from sklearn.pipeline import Pipeline\n",
    "from sklearn.ensemble import RandomForestClassifier\n",
    "import optimization\n",
    "from xgboost import XGBClassifier\n",
    "from sklearn.model_selection import StratifiedKFold\n",
    "import numpy as np\n",
    "from collections import OrderedDict\n",
    "from sklearn.metrics import accuracy_score,f1_score,recall_score,precision_score\n",
    "import pandas as pd\n",
    "import seaborn as sns"
   ]
  },
  {
   "cell_type": "code",
   "execution_count": 73,
   "metadata": {},
   "outputs": [],
   "source": [
    "feat = Features(**pack)\n",
    "data = feat.execute()\n",
    "container = feature_selection(data)\n",
    "trainx = container.trainx\n",
    "trainy = container.trainy\n",
    "\n",
    "def encoder(data,feat):\n",
    "    from sklearn.preprocessing import OrdinalEncoder\n",
    "    oe=OrdinalEncoder()\n",
    "    data[feat]=oe.fit_transform(data[feat])\n",
    "    return data\n",
    "\n",
    "trainx=encoder(trainx,['hometeam','awayteam','referee','season'])"
   ]
  },
  {
   "cell_type": "code",
   "execution_count": 74,
   "metadata": {},
   "outputs": [],
   "source": [
    "trainx,valx,trainy,valy=train_test_split(trainx,trainy)"
   ]
  },
  {
   "cell_type": "code",
   "execution_count": 75,
   "metadata": {},
   "outputs": [
    {
     "name": "stdout",
     "output_type": "stream",
     "text": [
      "XGBoost_classif took 923.61 seconds,  candidates checked: 120, best CV score: 0.592 ± 0.003\n",
      "Best parameters:\n",
      "OrderedDict([('colsample_bytree', 1.0),\n",
      "             ('learning_rate', 0.01),\n",
      "             ('max_depth', 4),\n",
      "             ('n_estimators', 257),\n",
      "             ('reg_lambda', 22.485977903954552),\n",
      "             ('subsample', 0.5325852461953129)])\n"
     ]
    }
   ],
   "source": [
    "best_params = optimization.optimizer(trainx,trainy, 'XGBoost_classif')"
   ]
  },
  {
   "cell_type": "code",
   "execution_count": 76,
   "metadata": {},
   "outputs": [],
   "source": [
    "# best_params['reg_lambda']+=100\n",
    "# best_params['subsample']=0.2"
   ]
  },
  {
   "cell_type": "code",
   "execution_count": 77,
   "metadata": {},
   "outputs": [],
   "source": [
    "\n",
    "# best_params = OrderedDict([('colsample_bytree', 1.0),\n",
    "#                            ('learning_rate', 0.14006304478391782),\n",
    "#                            ('max_depth', 10),\n",
    "#                            ('n_estimators', 50),\n",
    "#                            ('subsample', 1.0)])\n",
    "\n",
    "    # xgb_param = model.get_xgb_params()\n",
    "    # xgb_param['num_class'] = 3\n",
    "    # cvresult = xgb.cv(xgb_param, ...)\n",
    "\n",
    "\n",
    "model = XGBClassifier(random_state=0, booster='gbtree', tree_method='hist',objective='multi:softprob',\n",
    "                      eval_metric=accuracy_score, verbosity=0, num_class=3, grow_policy='lossguide', **best_params)\n",
    "\n",
    "\n",
    "def train(trainx, trainy):\n",
    "    folds = 10\n",
    "    skf = StratifiedKFold(n_splits=folds, shuffle=True, random_state=0)\n",
    "    train_acc, val_acc = [], []\n",
    "    \n",
    "    \n",
    "    for k, (train_idx, val_idx) in enumerate(skf.split(trainx, trainy)):\n",
    "        model.fit(trainx.iloc[train_idx].values, trainy.iloc[train_idx].values)\n",
    "        train_preds = model.predict(trainx.iloc[train_idx].values)\n",
    "        val_preds = model.predict(trainx.iloc[val_idx].values)\n",
    "        \n",
    "        acc_t = accuracy_score(\n",
    "            y_true=trainy.iloc[train_idx].values, y_pred=train_preds)\n",
    "        acc_v = accuracy_score(\n",
    "            y_true=trainy.iloc[val_idx].values, y_pred=val_preds)\n",
    "        train_acc.append(acc_t)\n",
    "        val_acc.append(acc_v)\n",
    "    return np.mean(train_acc), np.mean(val_acc)\n"
   ]
  },
  {
   "cell_type": "code",
   "execution_count": 78,
   "metadata": {},
   "outputs": [],
   "source": [
    "# import features\n",
    "# best = features.auto_best_features(trainx, trainy, n_features=30)"
   ]
  },
  {
   "cell_type": "code",
   "execution_count": 79,
   "metadata": {},
   "outputs": [],
   "source": [
    "model.fit(trainx,trainy)\n",
    "t_preds=model.predict(trainx)\n",
    "v_preds=model.predict(valx)"
   ]
  },
  {
   "cell_type": "code",
   "execution_count": 80,
   "metadata": {},
   "outputs": [
    {
     "name": "stdout",
     "output_type": "stream",
     "text": [
      "[[  61   13   15]\n",
      " [ 550 1264  375]\n",
      " [ 952  530 2456]]\n",
      "0.6825515408169871\n",
      "0.6082689832689833\n",
      "0.7936038587754342\n"
     ]
    },
    {
     "data": {
      "text/plain": [
       "0.6082689832689833"
      ]
     },
     "execution_count": 80,
     "metadata": {},
     "output_type": "execute_result"
    }
   ],
   "source": [
    "from sklearn.metrics import confusion_matrix\n",
    "print(confusion_matrix(t_preds,trainy))\n",
    "print(f1_score(t_preds,trainy,average='weighted'))\n",
    "print(recall_score(t_preds,trainy,average='weighted'))\n",
    "print(precision_score(t_preds,trainy,average='weighted'))\n",
    "accuracy_score(t_preds,trainy)"
   ]
  },
  {
   "cell_type": "code",
   "execution_count": 81,
   "metadata": {},
   "outputs": [
    {
     "name": "stdout",
     "output_type": "stream",
     "text": [
      "[[  8   8  10]\n",
      " [173 424 142]\n",
      " [325 178 805]]\n",
      "0.6729743794421154\n",
      "0.596719729860106\n",
      "0.7787397128139061\n"
     ]
    },
    {
     "data": {
      "text/plain": [
       "0.5967197298601061"
      ]
     },
     "execution_count": 81,
     "metadata": {},
     "output_type": "execute_result"
    }
   ],
   "source": [
    "print(confusion_matrix(v_preds,valy))\n",
    "print(f1_score(v_preds,valy,average='weighted'))\n",
    "print(recall_score(v_preds,valy,average='weighted'))\n",
    "print(precision_score(v_preds,valy,average='weighted'))\n",
    "accuracy_score(v_preds,valy)"
   ]
  },
  {
   "cell_type": "code",
   "execution_count": 12,
   "metadata": {},
   "outputs": [],
   "source": [
    "# mi = features.mutual_information(best, trainy)\n",
    "# features.plotmi(mi)"
   ]
  },
  {
   "cell_type": "code",
   "execution_count": 39,
   "metadata": {},
   "outputs": [],
   "source": [
    "# train_acc,val_acc=train(best, trainy)\n",
    "# train_acc,val_acc\n",
    "\n"
   ]
  },
  {
   "cell_type": "code",
   "execution_count": null,
   "metadata": {},
   "outputs": [],
   "source": []
  },
  {
   "cell_type": "code",
   "execution_count": 80,
   "metadata": {},
   "outputs": [
    {
     "data": {
      "image/png": "[encoded data removed]",
      "text/plain": [
       "<Figure size 432x288 with 1 Axes>"
      ]
     },
     "metadata": {},
     "output_type": "display_data"
    }
   ],
   "source": [
    "sns.countplot(trainy);"
   ]
  },
  {
   "cell_type": "code",
   "execution_count": 82,
   "metadata": {},
   "outputs": [
    {
     "data": {
      "text/plain": [
       "(0.9823862979360414, 0.5702755779327867)"
      ]
     },
     "execution_count": 82,
     "metadata": {},
     "output_type": "execute_result"
    }
   ],
   "source": [
    "train(trainx,trainy)"
   ]
  },
  {
   "cell_type": "code",
   "execution_count": null,
   "metadata": {},
   "outputs": [],
   "source": [
    "# find the optimal parameters and by training and validating multiple times -the training and validation can be daone in loop or in single sert"
   ]
  },
  {
   "cell_type": "code",
   "execution_count": 16,
   "metadata": {},
   "outputs": [],
   "source": [
    "import torch\n",
    "from torch.utils.data import DataLoader\n",
    "\n",
    "class Loader:\n",
    "    def __init__(self,x,y):\n",
    "        self.trainx=x.values\n",
    "        self.trainy=y.values\n",
    "    def __len__(self):\n",
    "        return len(self.trainx)\n",
    "    def __getitem__(self,idx):\n",
    "        return {'x':self.trainx[idx],'y':self.trainy[idx]}\n",
    "    \n"
   ]
  },
  {
   "cell_type": "code",
   "execution_count": 55,
   "metadata": {},
   "outputs": [],
   "source": [
    "epochs=10\n",
    "t_x,v_x,t_y,v_y=train_test_split(trainx,trainy,test_size=0.2)\n",
    "trainloader=DataLoader(Loader(t_x,t_y),batch_size=64)\n",
    "val_loader=DataLoader(Loader(v_x,v_y),batch_size=8)\n",
    "best_params = OrderedDict([('colsample_bytree', 1.0),\n",
    "                           ('learning_rate', 0.14006304478391782),\n",
    "                           ('max_depth', 10),\n",
    "                           ('n_estimators', 50),\n",
    "                           ('subsample', 1.0)])\n",
    "model = XGBClassifier(random_state=0, booster='gbtree', tree_method='hist', eval_metric='mlogloss', objective='multi:softprob' ,verbosity=0, **best_params)\n",
    "model.fit(t_x,t_y)"
   ]
  },
  {
   "cell_type": "code",
   "execution_count": null,
   "metadata": {},
   "outputs": [],
   "source": []
  },
  {
   "cell_type": "code",
   "execution_count": null,
   "metadata": {},
   "outputs": [],
   "source": []
  },
  {
   "cell_type": "code",
   "execution_count": null,
   "metadata": {},
   "outputs": [],
   "source": []
  },
  {
   "cell_type": "code",
   "execution_count": null,
   "metadata": {},
   "outputs": [],
   "source": []
  },
  {
   "cell_type": "code",
   "execution_count": null,
   "metadata": {},
   "outputs": [],
   "source": []
  },
  {
   "cell_type": "code",
   "execution_count": null,
   "metadata": {},
   "outputs": [],
   "source": []
  }
 ],
 "metadata": {
  "kernelspec": {
   "display_name": "Python 3.8.13 ('py38')",
   "language": "python",
   "name": "python3"
  },
  "language_info": {
   "codemirror_mode": {
    "name": "ipython",
    "version": 3
   },
   "file_extension": ".py",
   "mimetype": "text/x-python",
   "name": "python",
   "nbconvert_exporter": "python",
   "pygments_lexer": "ipython3",
   "version": "3.8.13"
  },
  "orig_nbformat": 4,
  "vscode": {
   "interpreter": {
    "hash": "89cfa167d153742a51790af676de7b3c0d8354fe0bd3b02aa53d1c3f327566f5"
   }
  }
 },
 "nbformat": 4,
 "nbformat_minor": 2
}
