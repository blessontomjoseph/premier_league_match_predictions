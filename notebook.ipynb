{
 "cells": [
  {
   "cell_type": "markdown",
   "metadata": {},
   "source": [
    "#### a feature:\n",
    "- the league position of the teams in the previous season\n",
    "- maybe a current league position of bothe teams at the moment when the match is happening\n",
    "\n",
    "#### outlier removals to be done\n",
    "#### more algorithms and more corresponding search spaces\n"
   ]
  },
  {
   "cell_type": "code",
   "execution_count": 1,
   "metadata": {},
   "outputs": [],
   "source": [
    "import warnings\n",
    "%load_ext autoreload\n",
    "%autoreload 2\n",
    "warnings.simplefilter('ignore')\n",
    "\n",
    "# \"chr=conceded-home-rolling\"\n",
    "# \"car=conceded-away-rolling\"\n",
    "# \"hr=home-rolling\"\n",
    "# \"ar=away-rolling\""
   ]
  },
  {
   "cell_type": "code",
   "execution_count": 2,
   "metadata": {},
   "outputs": [],
   "source": [
    "from preprocess import pack\n",
    "import optimization\n",
    "from features import Features, feature_selection\n",
    "\n",
    "\n",
    "import numpy as np\n",
    "import pandas as pd\n",
    "import seaborn as sns\n",
    "from sklearn.model_selection import train_test_split\n",
    "from sklearn.pipeline import Pipeline\n",
    "from sklearn.ensemble import RandomForestClassifier\n",
    "from xgboost import XGBClassifier\n",
    "from sklearn.model_selection import StratifiedKFold\n",
    "from collections import OrderedDict\n",
    "from sklearn.metrics import accuracy_score,f1_score,recall_score,precision_score\n"
   ]
  },
  {
   "cell_type": "code",
   "execution_count": 3,
   "metadata": {},
   "outputs": [],
   "source": [
    "def encoder(data,features):\n",
    "    from sklearn.preprocessing import OrdinalEncoder\n",
    "    oe=OrdinalEncoder()\n",
    "    data[features]=oe.fit_transform(data[features])\n",
    "    return data"
   ]
  },
  {
   "cell_type": "code",
   "execution_count": 4,
   "metadata": {},
   "outputs": [],
   "source": [
    "feat = Features(**pack)\n",
    "data = feat.execute()\n",
    "container = feature_selection(data)\n",
    "trainx = container.trainx\n",
    "trainy = container.trainy\n",
    "trainx=encoder(trainx,['hometeam','awayteam','referee','season'])\n",
    "\n",
    "# trainx,valx,trainy,valy=train_test_split(trainx,trainy)\n",
    "trainx.reset_index(inplace=True,drop=True)\n",
    "# valx.reset_index(inplace=True,drop=True)\n",
    "trainy.reset_index(inplace=True,drop=True)\n",
    "# valy.reset_index(inplace=True,drop=True)"
   ]
  },
  {
   "cell_type": "code",
   "execution_count": 13,
   "metadata": {},
   "outputs": [
    {
     "data": {
      "text/plain": [
       "Index(['season', 'referee', 'hometeam', 'awayteam', 'ftg_hr', 'htg_hr', 's_hr',\n",
       "       'st_hr', 'c_hr', 'f_hr', 'y_hr', 'r_hr', 'p_hr', 'hp_hr', 'ftg_ar',\n",
       "       'htg_ar', 's_ar', 'st_ar', 'c_ar', 'f_ar', 'y_ar', 'r_ar', 'p_ar',\n",
       "       'hp_ar', 'ftg_chr', 'htg_chr', 's_chr', 'st_chr', 'c_chr', 'f_chr',\n",
       "       'y_chr', 'r_chr', 'p_chr', 'hp_chr', 'ftg_car', 'htg_car', 's_car',\n",
       "       'st_car', 'c_car', 'f_car', 'y_car', 'r_car', 'p_car', 'hp_car', 'day'],\n",
       "      dtype='object')"
      ]
     },
     "execution_count": 13,
     "metadata": {},
     "output_type": "execute_result"
    }
   ],
   "source": [
    "trainx.columns"
   ]
  },
  {
   "cell_type": "code",
   "execution_count": 15,
   "metadata": {},
   "outputs": [
    {
     "data": {
      "text/plain": [
       "<AxesSubplot:xlabel='y_car'>"
      ]
     },
     "execution_count": 15,
     "metadata": {},
     "output_type": "execute_result"
    },
    {
     "data": {
      "image/png": "[encoded data removed]",
      "text/plain": [
       "<Figure size 432x288 with 1 Axes>"
      ]
     },
     "metadata": {
      "needs_background": "light"
     },
     "output_type": "display_data"
    }
   ],
   "source": [
    "sns.boxplot(trainx['y_car'])"
   ]
  },
  {
   "cell_type": "code",
   "execution_count": 28,
   "metadata": {},
   "outputs": [
    {
     "name": "stdout",
     "output_type": "stream",
     "text": [
      "XGBoost_classif took 3925.00 seconds,  candidates checked: 120, best CV score: 0.597 ± 0.001\n",
      "Best parameters:\n",
      "OrderedDict([('booster', 'gbtree'),\n",
      "             ('colsample_bytree', 0.6302194630442275),\n",
      "             ('learning_rate', 0.01),\n",
      "             ('max_depth', 1),\n",
      "             ('max_leaves', 49),\n",
      "             ('n_estimators', 500),\n",
      "             ('reg_lambda', 1e-09),\n",
      "             ('sampling_method', 'uniform'),\n",
      "             ('subsample', 0.6912252213398504)])\n"
     ]
    }
   ],
   "source": [
    "best_params = optimization.optimizer(trainx,trainy, 'XGBoost_classif')"
   ]
  },
  {
   "cell_type": "markdown",
   "metadata": {},
   "source": [
    "XGBoost_classif took 923.61 seconds,  candidates checked: 120, best CV score: 0.592 ± 0.003\n",
    "Best parameters:\n",
    "OrderedDict([('colsample_bytree', 1.0),\n",
    "             ('learning_rate', 0.01),\n",
    "             ('max_depth', 4),\n",
    "             ('n_estimators', 257),\n",
    "             ('reg_lambda', 22.485977903954552),\n",
    "             ('subsample', 0.5325852461953129)])"
   ]
  },
  {
   "cell_type": "code",
   "execution_count": null,
   "metadata": {},
   "outputs": [],
   "source": [
    "# better model- in some aspects\n",
    "\n",
    "\n",
    "# XGBoost_classif took 3925.00 seconds,  candidates checked: 120, best CV score: 0.597 ± 0.001\n",
    "# Best parameters:\n",
    "# OrderedDict([('booster', 'gbtree'),\n",
    "#              ('colsample_bytree', 0.6302194630442275),\n",
    "#              ('learning_rate', 0.01),\n",
    "#              ('max_depth', 1),\n",
    "#              ('max_leaves', 49),\n",
    "#              ('n_estimators', 500),\n",
    "#              ('reg_lambda', 1e-09),\n",
    "#              ('sampling_method', 'uniform'),\n",
    "#              ('subsample', 0.6912252213398504)])\n"
   ]
  },
  {
   "cell_type": "code",
   "execution_count": 96,
   "metadata": {},
   "outputs": [],
   "source": [
    "# best_params['reg_lambda']+=100\n",
    "# best_params['max_depth']+=5"
   ]
  },
  {
   "cell_type": "code",
   "execution_count": 41,
   "metadata": {},
   "outputs": [],
   "source": [
    "\n",
    "# best_params = OrderedDict([('colsample_bytree', 1.0),\n",
    "#                            ('learning_rate', 0.14006304478391782),\n",
    "#                            ('max_depth', 10),\n",
    "#                            ('n_estimators', 50),\n",
    "#                            ('subsample', 1.0)])\n",
    "\n",
    "    # xgb_param = model.get_xgb_params()\n",
    "    # xgb_param['num_class'] = 3\n",
    "    # cvresult = xgb.cv(xgb_param, ...)\n",
    "\n",
    "\n",
    "model = XGBClassifier(random_state=0, tree_method='hist',objective='multi:softprob',\n",
    "                      eval_metric=accuracy_score, verbosity=0, num_class=3, grow_policy='lossguide', **best_params)\n",
    "\n",
    "\n",
    "def train(trainx,trainy,model):\n",
    "    folds = 10\n",
    "    skf = StratifiedKFold(n_splits=folds, shuffle=True, random_state=0)\n",
    "    train_acc, val_acc = [], []\n",
    "\n",
    "    for k, (train_idx, val_idx) in enumerate(skf.split(trainx, trainy)):\n",
    "        t_x = trainx.iloc[train_idx].values\n",
    "        t_y = trainy.iloc[train_idx].values\n",
    "        v_x = trainx.iloc[val_idx].values\n",
    "        v_y = trainy.iloc[val_idx].values\n",
    "        \n",
    "        model.fit(t_x,t_y)\n",
    "        train_preds = model.predict(t_x)\n",
    "        val_preds = model.predict(v_x)\n",
    "        \n",
    "        acc_t = accuracy_score(y_true=t_y, y_pred=train_preds)\n",
    "        acc_v = accuracy_score(y_true=v_y, y_pred=val_preds)\n",
    "        \n",
    "        train_acc.append(acc_t)\n",
    "        val_acc.append(acc_v)\n",
    "        \n",
    "    return np.mean(train_acc), np.mean(val_acc)\n"
   ]
  },
  {
   "cell_type": "code",
   "execution_count": 42,
   "metadata": {},
   "outputs": [],
   "source": [
    "# import features\n",
    "# best = features.auto_best_features(trainx, trainy, n_features=30)"
   ]
  },
  {
   "cell_type": "code",
   "execution_count": 43,
   "metadata": {},
   "outputs": [],
   "source": [
    "a,b=train(trainx,trainy,model)\n",
    "a,b"
   ]
  },
  {
   "cell_type": "code",
   "execution_count": 45,
   "metadata": {},
   "outputs": [],
   "source": [
    "model.fit(trainx,trainy)\n",
    "v_preds=model.predict(valx)"
   ]
  },
  {
   "cell_type": "code",
   "execution_count": 46,
   "metadata": {},
   "outputs": [
    {
     "name": "stdout",
     "output_type": "stream",
     "text": [
      "[[  0   0   0]\n",
      " [178 400 119]\n",
      " [327 208 841]]\n",
      "0.6840553867700249\n",
      "0.5986493005306319\n",
      "0.8026946285153309\n"
     ]
    },
    {
     "data": {
      "text/plain": [
       "0.5986493005306319"
      ]
     },
     "execution_count": 46,
     "metadata": {},
     "output_type": "execute_result"
    }
   ],
   "source": [
    "from sklearn.metrics import confusion_matrix\n",
    "print(confusion_matrix(v_preds,valy))\n",
    "print(f1_score(v_preds,valy,average='weighted'))\n",
    "print(recall_score(v_preds,valy,average='weighted'))\n",
    "print(precision_score(v_preds,valy,average='weighted'))\n",
    "accuracy_score(v_preds,valy)"
   ]
  },
  {
   "cell_type": "code",
   "execution_count": 47,
   "metadata": {},
   "outputs": [],
   "source": [
    "model.fit(trainx,trainy)\n",
    "t_preds=model.predict(trainx)\n",
    "v_preds=model.predict(valx)"
   ]
  },
  {
   "cell_type": "code",
   "execution_count": 48,
   "metadata": {},
   "outputs": [
    {
     "name": "stdout",
     "output_type": "stream",
     "text": [
      "[[   2    1    0]\n",
      " [ 716 1629  499]\n",
      " [1351  787 3304]]\n",
      "0.6817433311845511\n",
      "0.5953673543250091\n",
      "0.8016327489564088\n"
     ]
    },
    {
     "data": {
      "text/plain": [
       "0.5953673543250091"
      ]
     },
     "execution_count": 48,
     "metadata": {},
     "output_type": "execute_result"
    }
   ],
   "source": [
    "from sklearn.metrics import confusion_matrix\n",
    "print(confusion_matrix(t_preds,trainy))\n",
    "print(f1_score(t_preds,trainy,average='weighted'))\n",
    "print(recall_score(t_preds,trainy,average='weighted'))\n",
    "print(precision_score(t_preds,trainy,average='weighted'))\n",
    "accuracy_score(t_preds,trainy)"
   ]
  },
  {
   "cell_type": "code",
   "execution_count": 49,
   "metadata": {},
   "outputs": [
    {
     "name": "stdout",
     "output_type": "stream",
     "text": [
      "[[  0   0   0]\n",
      " [178 400 119]\n",
      " [327 208 841]]\n",
      "0.6840553867700249\n",
      "0.5986493005306319\n",
      "0.8026946285153309\n"
     ]
    },
    {
     "data": {
      "text/plain": [
       "0.5986493005306319"
      ]
     },
     "execution_count": 49,
     "metadata": {},
     "output_type": "execute_result"
    }
   ],
   "source": [
    "print(confusion_matrix(v_preds,valy))\n",
    "print(f1_score(v_preds,valy,average='weighted'))\n",
    "print(recall_score(v_preds,valy,average='weighted'))\n",
    "print(precision_score(v_preds,valy,average='weighted'))\n",
    "accuracy_score(v_preds,valy)"
   ]
  },
  {
   "cell_type": "code",
   "execution_count": null,
   "metadata": {},
   "outputs": [],
   "source": [
    "# mi = features.mutual_information(best, trainy)\n",
    "# features.plotmi(mi)"
   ]
  },
  {
   "cell_type": "code",
   "execution_count": 39,
   "metadata": {},
   "outputs": [],
   "source": [
    "# train_acc,val_acc=train(best, trainy)\n",
    "# train_acc,val_acc\n",
    "\n"
   ]
  },
  {
   "cell_type": "code",
   "execution_count": 1,
   "metadata": {},
   "outputs": [
    {
     "ename": "",
     "evalue": "",
     "output_type": "error",
     "traceback": [
      "\u001b[1;31mCanceled future for execute_request message before replies were done"
     ]
    },
    {
     "ename": "",
     "evalue": "",
     "output_type": "error",
     "traceback": [
      "\u001b[1;31mThe Kernel crashed while executing code in the the current cell or a previous cell. Please review the code in the cell(s) to identify a possible cause of the failure. Click <a href='https://aka.ms/vscodeJupyterKernelCrash'>here</a> for more info. View Jupyter <a href='command:jupyter.viewOutput'>log</a> for further details."
     ]
    }
   ],
   "source": [
    "import torch\n",
    "a=[torch.tensor([[1,2,3]]),torch.tensor([[1,2,3]]),torch.tensor([[1,2,3]])]\n",
    "b=torch.stack(a,dim=1)\n"
   ]
  },
  {
   "cell_type": "code",
   "execution_count": 80,
   "metadata": {},
   "outputs": [
    {
     "data": {
      "image/png": "[encoded data removed]",
      "text/plain": [
       "<Figure size 432x288 with 1 Axes>"
      ]
     },
     "metadata": {},
     "output_type": "display_data"
    }
   ],
   "source": [
    "sns.countplot(trainy);"
   ]
  },
  {
   "cell_type": "code",
   "execution_count": 82,
   "metadata": {},
   "outputs": [
    {
     "data": {
      "text/plain": [
       "(0.9823862979360414, 0.5702755779327867)"
      ]
     },
     "execution_count": 82,
     "metadata": {},
     "output_type": "execute_result"
    }
   ],
   "source": [
    "train(trainx,trainy)"
   ]
  },
  {
   "cell_type": "code",
   "execution_count": null,
   "metadata": {},
   "outputs": [],
   "source": [
    "# find the optimal parameters and by training and validating multiple times -the training and validation can be daone in loop or in single sert"
   ]
  },
  {
   "cell_type": "code",
   "execution_count": 16,
   "metadata": {},
   "outputs": [],
   "source": [
    "import torch\n",
    "from torch.utils.data import DataLoader\n",
    "\n",
    "class Loader:\n",
    "    def __init__(self,x,y):\n",
    "        self.trainx=x.values\n",
    "        self.trainy=y.values\n",
    "    def __len__(self):\n",
    "        return len(self.trainx)\n",
    "    def __getitem__(self,idx):\n",
    "        return {'x':self.trainx[idx],'y':self.trainy[idx]}"
   ]
  },
  {
   "cell_type": "code",
   "execution_count": 55,
   "metadata": {},
   "outputs": [],
   "source": [
    "epochs=10\n",
    "t_x,v_x,t_y,v_y=train_test_split(trainx,trainy,test_size=0.2)\n",
    "trainloader=DataLoader(Loader(t_x,t_y),batch_size=64)\n",
    "val_loader=DataLoader(Loader(v_x,v_y),batch_size=8)\n",
    "best_params = OrderedDict([('colsample_bytree', 1.0),\n",
    "                           ('learning_rate', 0.14006304478391782),\n",
    "                           ('max_depth', 10),\n",
    "                           ('n_estimators', 50),\n",
    "                           ('subsample', 1.0)])\n",
    "model = XGBClassifier(random_state=0, booster='gbtree', tree_method='hist', eval_metric='mlogloss', objective='multi:softprob' ,verbosity=0, **best_params)\n",
    "model.fit(t_x,t_y)"
   ]
  },
  {
   "cell_type": "code",
   "execution_count": null,
   "metadata": {},
   "outputs": [],
   "source": []
  },
  {
   "cell_type": "code",
   "execution_count": null,
   "metadata": {},
   "outputs": [],
   "source": []
  },
  {
   "cell_type": "code",
   "execution_count": null,
   "metadata": {},
   "outputs": [],
   "source": []
  },
  {
   "cell_type": "code",
   "execution_count": null,
   "metadata": {},
   "outputs": [],
   "source": []
  },
  {
   "cell_type": "code",
   "execution_count": null,
   "metadata": {},
   "outputs": [],
   "source": []
  },
  {
   "cell_type": "code",
   "execution_count": null,
   "metadata": {},
   "outputs": [],
   "source": []
  }
 ],
 "metadata": {
  "kernelspec": {
   "display_name": "Python 3.8.13 ('py38')",
   "language": "python",
   "name": "python3"
  },
  "language_info": {
   "codemirror_mode": {
    "name": "ipython",
    "version": 3
   },
   "file_extension": ".py",
   "mimetype": "text/x-python",
   "name": "python",
   "nbconvert_exporter": "python",
   "pygments_lexer": "ipython3",
   "version": "3.8.13"
  },
  "orig_nbformat": 4,
  "vscode": {
   "interpreter": {
    "hash": "89cfa167d153742a51790af676de7b3c0d8354fe0bd3b02aa53d1c3f327566f5"
   }
  }
 },
 "nbformat": 4,
 "nbformat_minor": 2
}
